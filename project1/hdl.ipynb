{
 "cells": [
  {
   "cell_type": "markdown",
   "id": "83cb365e",
   "metadata": {},
   "source": [
    "# Not"
   ]
  },
  {
   "cell_type": "code",
   "execution_count": null,
   "id": "4e93e64e",
   "metadata": {
    "vscode": {
     "languageId": "plaintext"
    }
   },
   "outputs": [],
   "source": [
    "/**\n",
    " * Not gate:\n",
    " * if (in) out = 0, else out = 1\n",
    " */\n",
    "CHIP Not {\n",
    "    IN in;\n",
    "    OUT out;\n",
    "\n",
    "    PARTS:\n",
    "    //// Replace this comment with your code.\n",
    "    Nand(a= in, b= true, out= out);\n",
    "}"
   ]
  },
  {
   "cell_type": "markdown",
   "id": "2feddc8e",
   "metadata": {},
   "source": [
    "# And"
   ]
  },
  {
   "cell_type": "code",
   "execution_count": null,
   "id": "2ce7b8a3",
   "metadata": {
    "vscode": {
     "languageId": "plaintext"
    }
   },
   "outputs": [],
   "source": [
    "/**\n",
    " * And gate:\n",
    " * if (a and b) out = 1, else out = 0 \n",
    " *  Not(Nand(a,b))\n",
    " */\n",
    "CHIP And {\n",
    "    IN a, b;\n",
    "    OUT out;\n",
    "    \n",
    "    PARTS:\n",
    "    //// Replace this comment with your code.\n",
    "    Nand(a=a , b=b , out=c );\n",
    "    Nand(a= c, b= true, out= out);\n",
    "\n",
    "}"
   ]
  },
  {
   "cell_type": "markdown",
   "id": "0fea5f5b",
   "metadata": {},
   "source": [
    "# Or"
   ]
  },
  {
   "cell_type": "code",
   "execution_count": null,
   "id": "baaed0fa",
   "metadata": {
    "vscode": {
     "languageId": "plaintext"
    }
   },
   "outputs": [],
   "source": [
    "/**\n",
    " * Or gate:\n",
    " * if (a or b) out = 1, else out = 0 \n",
    " */\n",
    "CHIP Or {\n",
    "    IN a, b;\n",
    "    OUT out;\n",
    "\n",
    "    PARTS:\n",
    "    //// Replace this comment with your code.\n",
    "    Nand(a= a, b=true , out=a1 );\n",
    "    Nand(a= b, b=true , out=b1 );\n",
    "    Nand(a= a1, b=b1 , out=out );\n",
    "}"
   ]
  },
  {
   "cell_type": "markdown",
   "id": "13694bda",
   "metadata": {},
   "source": [
    "# Xor"
   ]
  },
  {
   "cell_type": "code",
   "execution_count": null,
   "id": "86890940",
   "metadata": {
    "vscode": {
     "languageId": "plaintext"
    }
   },
   "outputs": [],
   "source": [
    "/**\n",
    " * Exclusive-or gate:\n",
    " * if ((a and Not(b)) or (Not(a) and b)) out = 1, else out = 0\n",
    " */\n",
    "CHIP Xor {\n",
    "    IN a, b;\n",
    "    OUT out;\n",
    "\n",
    "    PARTS:\n",
    "    Nand(a=a, b=b, out=c1);\n",
    "    Nand(a=a, b=c1, out=c2);\n",
    "    Nand(a=b, b=c1, out=c3);\n",
    "    Nand(a=c2, b=c3, out=out);\n",
    "}"
   ]
  }
 ],
 "metadata": {
  "language_info": {
   "name": "python"
  }
 },
 "nbformat": 4,
 "nbformat_minor": 5
}
