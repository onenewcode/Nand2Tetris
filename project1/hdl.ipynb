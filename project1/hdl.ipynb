{
 "cells": [
  {
   "cell_type": "markdown",
   "id": "83cb365e",
   "metadata": {},
   "source": [
    "# Not"
   ]
  },
  {
   "cell_type": "code",
   "execution_count": null,
   "id": "4e93e64e",
   "metadata": {
    "vscode": {
     "languageId": "c"
    }
   },
   "outputs": [],
   "source": [
    "/**\n",
    " * Not gate:\n",
    " * if (in) out = 0, else out = 1\n",
    " */\n",
    "CHIP Not {\n",
    "    IN in;\n",
    "    OUT out;\n",
    "\n",
    "    PARTS:\n",
    "    //// Replace this comment with your code.\n",
    "    Nand(a= in, b= true, out= out);\n",
    "}"
   ]
  },
  {
   "cell_type": "markdown",
   "id": "2feddc8e",
   "metadata": {},
   "source": [
    "# And"
   ]
  },
  {
   "cell_type": "code",
   "execution_count": null,
   "id": "2ce7b8a3",
   "metadata": {
    "vscode": {
     "languageId": "c"
    }
   },
   "outputs": [],
   "source": [
    "/**\n",
    " * And gate:\n",
    " * if (a and b) out = 1, else out = 0 \n",
    " *  Not(Nand(a,b))\n",
    " */\n",
    "CHIP And {\n",
    "    IN a, b;\n",
    "    OUT out;\n",
    "    \n",
    "    PARTS:\n",
    "    //// Replace this comment with your code.\n",
    "    Nand(a=a , b=b , out=c );\n",
    "    Nand(a= c, b= true, out= out);\n",
    "\n",
    "}"
   ]
  },
  {
   "cell_type": "markdown",
   "id": "0fea5f5b",
   "metadata": {},
   "source": [
    "# Or"
   ]
  },
  {
   "cell_type": "code",
   "execution_count": null,
   "id": "baaed0fa",
   "metadata": {
    "vscode": {
     "languageId": "c"
    }
   },
   "outputs": [],
   "source": [
    "/**\n",
    " * Or gate:\n",
    " * if (a or b) out = 1, else out = 0 \n",
    " */\n",
    "CHIP Or {\n",
    "    IN a, b;\n",
    "    OUT out;\n",
    "\n",
    "    PARTS:\n",
    "    //// Replace this comment with your code.\n",
    "    Nand(a= a, b=true , out=a1 );\n",
    "    Nand(a= b, b=true , out=b1 );\n",
    "    Nand(a= a1, b=b1 , out=out );\n",
    "}"
   ]
  },
  {
   "cell_type": "markdown",
   "id": "13694bda",
   "metadata": {},
   "source": [
    "# Xor"
   ]
  },
  {
   "cell_type": "code",
   "execution_count": null,
   "id": "86890940",
   "metadata": {
    "vscode": {
     "languageId": "c"
    }
   },
   "outputs": [],
   "source": [
    "/**\n",
    " * Exclusive-or gate:\n",
    " * if ((a and Not(b)) or (Not(a) and b)) out = 1, else out = 0\n",
    " */\n",
    "CHIP Xor {\n",
    "    IN a, b;\n",
    "    OUT out;\n",
    "\n",
    "    PARTS:\n",
    "    Nand(a=a, b=b, out=c1);\n",
    "    Nand(a=a, b=c1, out=c2);\n",
    "    Nand(a=b, b=c1, out=c3);\n",
    "    Nand(a=c2, b=c3, out=out);\n",
    "}"
   ]
  },
  {
   "cell_type": "markdown",
   "id": "54f97281",
   "metadata": {},
   "source": [
    "# Mux"
   ]
  },
  {
   "cell_type": "code",
   "execution_count": null,
   "id": "97beb320",
   "metadata": {
    "vscode": {
     "languageId": "c"
    }
   },
   "outputs": [],
   "source": [
    "\n",
    "/** \n",
    " * Multiplexor:\n",
    " * if (sel = 0) out = a, else out = b\n",
    " */\n",
    "\n",
    "CHIP Mux {\n",
    "    IN a, b, sel;\n",
    "    OUT out;\n",
    "\n",
    "    PARTS:\n",
    "        // 1. 实现 NOT sel = NAND(sel, sel)\n",
    "        Nand(a=sel, b=sel, out=notSel);\n",
    "        \n",
    "        // 2. 实现 A = NOT (a AND notSel) = NAND(a, notSel)\n",
    "        Nand(a=a, b=notSel, out=A);\n",
    "        \n",
    "        // 3. 实现 B = NOT (b AND sel) = NAND(b, sel)\n",
    "        Nand(a=b, b=sel, out=B);\n",
    "        \n",
    "        // 4. 实现 out = NOT (A AND B) = NAND(A, B)\n",
    "        Nand(a=A, b=B, out=out);\n",
    "}"
   ]
  },
  {
   "cell_type": "markdown",
   "id": "bf82cd41",
   "metadata": {},
   "source": [
    "# Dmux\n",
    "\n",
    "sel | in | a | b\n",
    "0   | 0  | 0 | 0\n",
    "0   | 1  | 1 | 0  \n",
    "1   | 0  | 0 | 0\n",
    "1   | 1  | 0 | 1"
   ]
  },
  {
   "cell_type": "code",
   "execution_count": null,
   "id": "fbdee211",
   "metadata": {
    "vscode": {
     "languageId": "c"
    }
   },
   "outputs": [],
   "source": [
    "// This file is part of www.nand2tetris.org\n",
    "// and the book \"The Elements of Computing Systems\"\n",
    "// by Nisan and Schocken, MIT Press.\n",
    "// File name: projects/1/DMux.hdl\n",
    "/**\n",
    " * Demultiplexor:\n",
    " * [a, b] = [in, 0] if sel = 0\n",
    " *          [0, in] if sel = 1\n",
    " */\n",
    "CHIP DMux {\n",
    "    IN in, sel;\n",
    "    OUT a, b;\n",
    "\n",
    "    PARTS:\n",
    "    //// Replace this comment with your code.\n",
    "    /** not 也是一个nand门，这里使用五个\n",
    "    Nand(a=sel , b= sel, out=notsel );\n",
    "    Nand(a= notsel, b=in , out=a1 );\n",
    "    Nand(a= sel, b=in , out=b1 );\n",
    "    Not(in=a1 , out=a );\n",
    "    Not(in=b1 , out=b );\n",
    "    **/\n",
    "    // ai优化 \n",
    "    Nand(a=sel, b=in, out=b1);\n",
    "    Nand(a=in, b=b1, out=nota);\n",
    "    Nand(a=nota, b=nota, out=a);\n",
    "    // 从非b获取b\n",
    "    Nand(a=b1, b=b1, out=b);\n",
    "}"
   ]
  },
  {
   "cell_type": "markdown",
   "id": "94511d96",
   "metadata": {},
   "source": [
    "# Not16"
   ]
  },
  {
   "cell_type": "code",
   "execution_count": null,
   "id": "deea9332",
   "metadata": {
    "vscode": {
     "languageId": "c"
    }
   },
   "outputs": [],
   "source": [
    "// This file is part of www.nand2tetris.org\n",
    "// and the book \"The Elements of Computing Systems\"\n",
    "// by Nisan and Schocken, MIT Press.\n",
    "// File name: projects/01/Not16.hdl\n",
    "/**\n",
    " * 16-bit Not gate:\n",
    " * for i = 0, ..., 15:\n",
    " * out[i] = Not(a[i])\n",
    " */\n",
    "CHIP Not16 {\n",
    "    IN in[16];\n",
    "    OUT out[16];\n",
    "\n",
    "    PARTS:\n",
    "    Nand(a=in[0], b=in[0], out=out[0]);\n",
    "    Nand(a=in[1], b=in[1], out=out[1]);\n",
    "    Nand(a=in[2], b=in[2], out=out[2]);\n",
    "    Nand(a=in[3], b=in[3], out=out[3]);\n",
    "    Nand(a=in[4], b=in[4], out=out[4]);\n",
    "    Nand(a=in[5], b=in[5], out=out[5]);\n",
    "    Nand(a=in[6], b=in[6], out=out[6]);\n",
    "    Nand(a=in[7], b=in[7], out=out[7]);\n",
    "    Nand(a=in[8], b=in[8], out=out[8]);\n",
    "    Nand(a=in[9], b=in[9], out=out[9]);\n",
    "    Nand(a=in[10], b=in[10], out=out[10]);\n",
    "    Nand(a=in[11], b=in[11], out=out[11]);\n",
    "    Nand(a=in[12], b=in[12], out=out[12]);\n",
    "    Nand(a=in[13], b=in[13], out=out[13]);\n",
    "    Nand(a=in[14], b=in[14], out=out[14]);\n",
    "    Nand(a=in[15], b=in[15], out=out[15]);\n",
    "}"
   ]
  },
  {
   "cell_type": "markdown",
   "id": "569c6c88",
   "metadata": {},
   "source": [
    "# And16"
   ]
  },
  {
   "cell_type": "code",
   "execution_count": null,
   "id": "e6d6ebeb",
   "metadata": {
    "vscode": {
     "languageId": "c"
    }
   },
   "outputs": [],
   "source": [
    "/**\n",
    " * 16-bit And gate:\n",
    " * for i = 0, ..., 15:\n",
    " * out[i] = And(a[i], b[i])\n",
    " */\n",
    "CHIP And16 {\n",
    "    IN a[16], b[16];\n",
    "    OUT out[16];\n",
    "\n",
    "    PARTS:\n",
    "    And(a=a[0], b=b[0], out=out[0]);\n",
    "    And(a=a[1], b=b[1], out=out[1]);\n",
    "    And(a=a[2], b=b[2], out=out[2]);\n",
    "    And(a=a[3], b=b[3], out=out[3]);\n",
    "    And(a=a[4], b=b[4], out=out[4]);\n",
    "    And(a=a[5], b=b[5], out=out[5]);\n",
    "    And(a=a[6], b=b[6], out=out[6]);\n",
    "    And(a=a[7], b=b[7], out=out[7]);\n",
    "    And(a=a[8], b=b[8], out=out[8]);\n",
    "    And(a=a[9], b=b[9], out=out[9]);\n",
    "    And(a=a[10], b=b[10], out=out[10]);\n",
    "    And(a=a[11], b=b[11], out=out[11]);\n",
    "    And(a=a[12], b=b[12], out=out[12]);\n",
    "    And(a=a[13], b=b[13], out=out[13]);\n",
    "    And(a=a[14], b=b[14], out=out[14]);\n",
    "    And(a=a[15], b=b[15], out=out[15]);\n",
    "}"
   ]
  },
  {
   "cell_type": "markdown",
   "id": "2f79cf49",
   "metadata": {},
   "source": [
    "# Or16"
   ]
  },
  {
   "cell_type": "code",
   "execution_count": null,
   "id": "1d489c34",
   "metadata": {
    "vscode": {
     "languageId": "c"
    }
   },
   "outputs": [],
   "source": [
    "/**\n",
    " * 16-bit Or gate:\n",
    " * for i = 0, ..., 15:\n",
    " * out[i] = a[i] Or b[i] \n",
    " */\n",
    "CHIP Or16 {\n",
    "    IN a[16], b[16];\n",
    "    OUT out[16];\n",
    "\n",
    "    PARTS:\n",
    "    Or(a=a[0], b=b[0], out=out[0]);\n",
    "    Or(a=a[1], b=b[1], out=out[1]);\n",
    "    Or(a=a[2], b=b[2], out=out[2]);\n",
    "    Or(a=a[3], b=b[3], out=out[3]);\n",
    "    Or(a=a[4], b=b[4], out=out[4]);\n",
    "    Or(a=a[5], b=b[5], out=out[5]);\n",
    "    Or(a=a[6], b=b[6], out=out[6]);\n",
    "    Or(a=a[7], b=b[7], out=out[7]);\n",
    "    Or(a=a[8], b=b[8], out=out[8]);\n",
    "    Or(a=a[9], b=b[9], out=out[9]);\n",
    "    Or(a=a[10], b=b[10], out=out[10]);\n",
    "    Or(a=a[11], b=b[11], out=out[11]);\n",
    "    Or(a=a[12], b=b[12], out=out[12]);\n",
    "    Or(a=a[13], b=b[13], out=out[13]);\n",
    "    Or(a=a[14], b=b[14], out=out[14]);\n",
    "    Or(a=a[15], b=b[15], out=out[15]);\n",
    "}"
   ]
  },
  {
   "cell_type": "markdown",
   "id": "66a8b40e",
   "metadata": {},
   "source": [
    "# Mux16"
   ]
  },
  {
   "cell_type": "code",
   "execution_count": null,
   "id": "87222687",
   "metadata": {
    "vscode": {
     "languageId": "c"
    }
   },
   "outputs": [],
   "source": [
    "/**\n",
    " * 16-bit multiplexor:\n",
    " * if sel = 0 then out = a\n",
    " * if sel = 1 then out = b\n",
    " */\n",
    "CHIP Mux16 {\n",
    "    IN a[16], b[16], sel;\n",
    "    OUT out[16];\n",
    "\n",
    "    PARTS:\n",
    "    Mux(a=a[0], b=b[0], sel=sel, out=out[0]);\n",
    "    Mux(a=a[1], b=b[1], sel=sel, out=out[1]);\n",
    "    Mux(a=a[2], b=b[2], sel=sel, out=out[2]);\n",
    "    Mux(a=a[3], b=b[3], sel=sel, out=out[3]);\n",
    "    Mux(a=a[4], b=b[4], sel=sel, out=out[4]);\n",
    "    Mux(a=a[5], b=b[5], sel=sel, out=out[5]);\n",
    "    Mux(a=a[6], b=b[6], sel=sel, out=out[6]);\n",
    "    Mux(a=a[7], b=b[7], sel=sel, out=out[7]);\n",
    "    Mux(a=a[8], b=b[8], sel=sel, out=out[8]);\n",
    "    Mux(a=a[9], b=b[9], sel=sel, out=out[9]);\n",
    "    Mux(a=a[10], b=b[10], sel=sel, out=out[10]);\n",
    "    Mux(a=a[11], b=b[11], sel=sel, out=out[11]);\n",
    "    Mux(a=a[12], b=b[12], sel=sel, out=out[12]);\n",
    "    Mux(a=a[13], b=b[13], sel=sel, out=out[13]);\n",
    "    Mux(a=a[14], b=b[14], sel=sel, out=out[14]);\n",
    "    Mux(a=a[15], b=b[15], sel=sel, out=out[15]);\n",
    "}"
   ]
  },
  {
   "cell_type": "markdown",
   "id": "6a3fbd97",
   "metadata": {},
   "source": [
    "# Or8Way"
   ]
  },
  {
   "cell_type": "code",
   "execution_count": null,
   "id": "20257378",
   "metadata": {
    "vscode": {
     "languageId": "c"
    }
   },
   "outputs": [],
   "source": [
    "/**\n",
    " * 8-way Or gate: \n",
    " * out = in[0] Or in[1] Or ... Or in[7]\n",
    " */\n",
    "CHIP Or8Way {\n",
    "    IN in[8];\n",
    "    OUT out;\n",
    "\n",
    "    PARTS:\n",
    "    Or(a=in[0], b=in[1], out=or01);\n",
    "    Or(a=in[2], b=in[3], out=or23);\n",
    "    Or(a=in[4], b=in[5], out=or45);\n",
    "    Or(a=in[6], b=in[7], out=or67);\n",
    "    \n",
    "    Or(a=or01, b=or23, out=or0123);\n",
    "    Or(a=or45, b=or67, out=or4567);\n",
    "    \n",
    "    Or(a=or0123, b=or4567, out=out);\n",
    "}"
   ]
  },
  {
   "cell_type": "markdown",
   "id": "0ca3623d",
   "metadata": {},
   "source": [
    "# Mux4Way"
   ]
  },
  {
   "cell_type": "code",
   "execution_count": null,
   "id": "f207e7cf",
   "metadata": {
    "vscode": {
     "languageId": "ini"
    }
   },
   "outputs": [],
   "source": [
    "/**\n",
    " * 4-way 16-bit multiplexor:\n",
    " * out = a if sel = 00\n",
    " *       b if sel = 01\n",
    " *       c if sel = 10\n",
    " *       d if sel = 11\n",
    " */\n",
    "CHIP Mux4Way16 {\n",
    "    IN a[16], b[16], c[16], d[16], sel[2];\n",
    "    OUT out[16];\n",
    "    \n",
    "    PARTS:\n",
    "    // 第一级：根据sel[1]选择上半部分或下半部分\n",
    "    Mux16(a=a, b=b, sel=sel[0], out=ab);\n",
    "    Mux16(a=c, b=d, sel=sel[0], out=cd);\n",
    "    \n",
    "    // 第二级：根据sel[1]选择最终输出\n",
    "    Mux16(a=ab, b=cd, sel=sel[1], out=out);\n",
    "}"
   ]
  },
  {
   "cell_type": "markdown",
   "id": "7063273f",
   "metadata": {},
   "source": [
    "# Mux8Way"
   ]
  },
  {
   "cell_type": "code",
   "execution_count": null,
   "id": "72f41a0b",
   "metadata": {
    "vscode": {
     "languageId": "c"
    }
   },
   "outputs": [],
   "source": [
    "/**\n",
    " * 8-way 16-bit multiplexor:\n",
    " * out = a if sel = 000\n",
    " *       b if sel = 001\n",
    " *       c if sel = 010\n",
    " *       d if sel = 011\n",
    " *       e if sel = 100\n",
    " *       f if sel = 101\n",
    " *       g if sel = 110\n",
    " *       h if sel = 111\n",
    " */\n",
    "CHIP Mux8Way16 {\n",
    "    IN a[16], b[16], c[16], d[16],\n",
    "       e[16], f[16], g[16], h[16],\n",
    "       sel[3];\n",
    "    OUT out[16];\n",
    "\n",
    "    PARTS:\n",
    "    // 第一级：根据sel[1..0]选择每组4个输入\n",
    "    Mux4Way16(a=a, b=b, c=c, d=d, sel=sel[0..1], out=abcd);\n",
    "    Mux4Way16(a=e, b=f, c=g, d=h, sel=sel[0..1], out=efgh);\n",
    "    \n",
    "    // 第二级：根据sel[2]选择最终输出\n",
    "    Mux16(a=abcd, b=efgh, sel=sel[2], out=out);\n",
    "}"
   ]
  },
  {
   "cell_type": "markdown",
   "id": "42046451",
   "metadata": {},
   "source": [
    "# Dmux4Way"
   ]
  },
  {
   "cell_type": "code",
   "execution_count": null,
   "id": "55b6ffb1",
   "metadata": {
    "vscode": {
     "languageId": "c"
    }
   },
   "outputs": [],
   "source": [
    "/**\n",
    " * 4-way demultiplexor:\n",
    " * [a, b, c, d] = [in, 0, 0, 0] if sel = 00\n",
    " *                [0, in, 0, 0] if sel = 01\n",
    " *                [0, 0, in, 0] if sel = 10\n",
    " *                [0, 0, 0, in] if sel = 11\n",
    " */\n",
    "CHIP DMux4Way {\n",
    "    IN in, sel[2];\n",
    "    OUT a, b, c, d;\n",
    "\n",
    "    PARTS:\n",
    "    // 第一级：根据sel[1]分配到上半部分或下半部分\n",
    "    DMux(in=in, sel=sel[1], a=top, b=bottom);\n",
    "    \n",
    "    // 第二级：根据sel[0]将上半部分分配到a和b\n",
    "    DMux(in=top, sel=sel[0], a=a, b=b);\n",
    "    \n",
    "    // 第二级：根据sel[0]将下半部分分配到c和d\n",
    "    DMux(in=bottom, sel=sel[0], a=c, b=d);\n",
    "}"
   ]
  },
  {
   "cell_type": "markdown",
   "id": "486f322f",
   "metadata": {},
   "source": [
    "# Dmux8Way"
   ]
  },
  {
   "cell_type": "code",
   "execution_count": null,
   "id": "7c9e6bd8",
   "metadata": {
    "vscode": {
     "languageId": "c"
    }
   },
   "outputs": [],
   "source": [
    "/**\n",
    " * 8-way demultiplexor:\n",
    " * [a, b, c, d, e, f, g, h] = [in, 0,  0,  0,  0,  0,  0,  0] if sel = 000\n",
    " *                            [0, in,  0,  0,  0,  0,  0,  0] if sel = 001\n",
    " *                            [0,  0, in,  0,  0,  0,  0,  0] if sel = 010\n",
    " *                            [0,  0,  0, in,  0,  0,  0,  0] if sel = 011\n",
    " *                            [0,  0,  0,  0, in,  0,  0,  0] if sel = 100\n",
    " *                            [0,  0,  0,  0,  0, in,  0,  0] if sel = 101\n",
    " *                            [0,  0,  0,  0,  0,  0, in,  0] if sel = 110\n",
    " *                            [0,  0,  0,  0,  0,  0,  0, in] if sel = 111\n",
    " */\n",
    "CHIP DMux8Way {\n",
    "    IN in, sel[3];\n",
    "    OUT a, b, c, d, e, f, g, h;\n",
    "\n",
    "    PARTS:\n",
    "    // 第一级：根据sel[2]分配到前4路或后4路\n",
    "    DMux(in=in, sel=sel[2], a=first4, b=last4);\n",
    "    \n",
    "    // 第二级：根据sel[0..1]将前4路分配到a,b,c,d\n",
    "    DMux4Way(in=first4, sel=sel[0..1], a=a, b=b, c=c, d=d);\n",
    "    \n",
    "    // 第二级：根据sel[0..1]将后4路分配到e,f,g,h\n",
    "    DMux4Way(in=last4, sel=sel[0..1], a=e, b=f, c=g, d=h);\n",
    "}"
   ]
  }
 ],
 "metadata": {
  "language_info": {
   "name": "python"
  }
 },
 "nbformat": 4,
 "nbformat_minor": 5
}
